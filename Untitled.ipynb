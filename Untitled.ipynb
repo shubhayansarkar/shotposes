{
 "cells": [
  {
   "cell_type": "code",
   "execution_count": 1,
   "id": "f073b66d",
   "metadata": {},
   "outputs": [],
   "source": [
    "import os\n",
    "import matplotlib.pyplot as plt\n",
    "from PIL import Image"
   ]
  },
  {
   "cell_type": "code",
   "execution_count": 16,
   "id": "e32ca8d4",
   "metadata": {},
   "outputs": [
    {
     "name": "stdout",
     "output_type": "stream",
     "text": [
      "drive has 1224\n",
      "legglance-flick has 1120\n",
      "pullshot has 1260\n",
      "sweep has 1120\n"
     ]
    }
   ],
   "source": [
    "data_path=r'E:\\jupyter_notebook\\jupy\\projects_22\\data_fol\\cricket_shots'\n",
    "\n",
    "for i in os.listdir(data_path):\n",
    "    imgcount=0\n",
    "    for j in os.listdir(f'{data_path}\\{i}'):\n",
    "        imgcount+=1\n",
    "    print(f'{i} has {imgcount}')"
   ]
  },
  {
   "cell_type": "code",
   "execution_count": 2,
   "id": "5812c824",
   "metadata": {},
   "outputs": [
    {
     "ename": "ImportError",
     "evalue": "cannot import name '_registerMatType' from 'cv2.cv2' (c:\\users\\admin\\appdata\\local\\programs\\python\\python39\\lib\\site-packages\\cv2\\cv2.cp39-win_amd64.pyd)",
     "output_type": "error",
     "traceback": [
      "\u001b[1;31m---------------------------------------------------------------------------\u001b[0m",
      "\u001b[1;31mImportError\u001b[0m                               Traceback (most recent call last)",
      "Cell \u001b[1;32mIn [2], line 1\u001b[0m\n\u001b[1;32m----> 1\u001b[0m \u001b[38;5;28;01mimport\u001b[39;00m \u001b[38;5;21;01mcv2\u001b[39;00m\n\u001b[0;32m      2\u001b[0m \u001b[38;5;28;01mimport\u001b[39;00m \u001b[38;5;21;01mmediapipe\u001b[39;00m \u001b[38;5;28;01mas\u001b[39;00m \u001b[38;5;21;01mmp\u001b[39;00m\n",
      "File \u001b[1;32mc:\\users\\admin\\appdata\\local\\programs\\python\\python39\\lib\\site-packages\\cv2\\__init__.py:9\u001b[0m\n\u001b[0;32m      6\u001b[0m \u001b[38;5;28;01mimport\u001b[39;00m \u001b[38;5;21;01msys\u001b[39;00m\n\u001b[0;32m      8\u001b[0m \u001b[38;5;28;01mfrom\u001b[39;00m \u001b[38;5;21;01m.\u001b[39;00m\u001b[38;5;21;01mcv2\u001b[39;00m \u001b[38;5;28;01mimport\u001b[39;00m \u001b[38;5;241m*\u001b[39m\n\u001b[1;32m----> 9\u001b[0m \u001b[38;5;28;01mfrom\u001b[39;00m \u001b[38;5;21;01m.\u001b[39;00m\u001b[38;5;21;01mcv2\u001b[39;00m \u001b[38;5;28;01mimport\u001b[39;00m _registerMatType\n\u001b[0;32m     10\u001b[0m \u001b[38;5;28;01mfrom\u001b[39;00m \u001b[38;5;21;01m.\u001b[39;00m \u001b[38;5;28;01mimport\u001b[39;00m mat_wrapper\n\u001b[0;32m     11\u001b[0m \u001b[38;5;28;01mfrom\u001b[39;00m \u001b[38;5;21;01m.\u001b[39;00m \u001b[38;5;28;01mimport\u001b[39;00m gapi\n",
      "\u001b[1;31mImportError\u001b[0m: cannot import name '_registerMatType' from 'cv2.cv2' (c:\\users\\admin\\appdata\\local\\programs\\python\\python39\\lib\\site-packages\\cv2\\cv2.cp39-win_amd64.pyd)"
     ]
    }
   ],
   "source": [
    "import cv2\n",
    "import mediapipe as mp"
   ]
  },
  {
   "cell_type": "code",
   "execution_count": null,
   "id": "5e3c45e8",
   "metadata": {},
   "outputs": [],
   "source": []
  }
 ],
 "metadata": {
  "kernelspec": {
   "display_name": "Python 3 (ipykernel)",
   "language": "python",
   "name": "python3"
  },
  "language_info": {
   "codemirror_mode": {
    "name": "ipython",
    "version": 3
   },
   "file_extension": ".py",
   "mimetype": "text/x-python",
   "name": "python",
   "nbconvert_exporter": "python",
   "pygments_lexer": "ipython3",
   "version": "3.9.4"
  }
 },
 "nbformat": 4,
 "nbformat_minor": 5
}
